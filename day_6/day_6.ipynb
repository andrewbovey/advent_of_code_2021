{
 "cells": [
  {
   "cell_type": "code",
   "execution_count": 9,
   "id": "39e53710-8ab2-4d51-be88-511c7e03029c",
   "metadata": {},
   "outputs": [],
   "source": [
    "with open(\"6_input.txt\", \"r\") as file:\n",
    "    fish = [int(i) for i in file.readline().strip().split(\",\")]"
   ]
  },
  {
   "cell_type": "code",
   "execution_count": 10,
   "id": "8f9a4c26-5752-4343-b8e1-6a5662c5004f",
   "metadata": {},
   "outputs": [],
   "source": [
    "fish_counts = dict.fromkeys(list(range(9)), 0)"
   ]
  },
  {
   "cell_type": "code",
   "execution_count": 11,
   "id": "42423131-6c44-4742-94db-bfaf24839c92",
   "metadata": {},
   "outputs": [],
   "source": [
    "for timer in set(fish):\n",
    "    fish_counts[timer] = fish.count(timer)"
   ]
  },
  {
   "cell_type": "code",
   "execution_count": 12,
   "id": "3a52452c-fa62-4b70-9652-ab9edbc9fff0",
   "metadata": {},
   "outputs": [
    {
     "data": {
      "text/plain": [
       "{0: 0, 1: 144, 2: 39, 3: 45, 4: 34, 5: 38, 6: 0, 7: 0, 8: 0}"
      ]
     },
     "execution_count": 12,
     "metadata": {},
     "output_type": "execute_result"
    }
   ],
   "source": [
    "fish_counts"
   ]
  },
  {
   "cell_type": "code",
   "execution_count": 13,
   "id": "19bafc06-477a-4647-929c-75023ac947d0",
   "metadata": {},
   "outputs": [],
   "source": [
    "assert sum(fish_counts.values()) == len(fish)"
   ]
  },
  {
   "cell_type": "code",
   "execution_count": 14,
   "id": "3b43d5d1-64c7-407b-bdf0-798a9b5afdb4",
   "metadata": {},
   "outputs": [],
   "source": [
    "DAYS = 80\n",
    "for day in range(DAYS):\n",
    "    for key in fish_counts.copy().keys():\n",
    "        fish_counts[key-1] = fish_counts[key]\n",
    "    fish_counts[6] += fish_counts[-1]\n",
    "    fish_counts[8] = fish_counts.pop(-1)"
   ]
  },
  {
   "cell_type": "code",
   "execution_count": 15,
   "id": "86a3e2c3-aff7-42a9-a6ce-5890aaed30e8",
   "metadata": {},
   "outputs": [
    {
     "name": "stdout",
     "output_type": "stream",
     "text": [
      "part 1: 371379\n"
     ]
    }
   ],
   "source": [
    "print(\"part 1:\", sum(fish_counts.values()))"
   ]
  },
  {
   "cell_type": "code",
   "execution_count": 18,
   "id": "7790795a-8ade-4e9a-80ed-db9193cb6e75",
   "metadata": {},
   "outputs": [],
   "source": [
    "fish_counts = dict.fromkeys(list(range(9)), 0)\n",
    "for timer in set(fish):\n",
    "    fish_counts[timer] = fish.count(timer)"
   ]
  },
  {
   "cell_type": "code",
   "execution_count": 19,
   "id": "cd4f140d-cfa7-4b53-b3b7-5af02dfd80da",
   "metadata": {},
   "outputs": [],
   "source": [
    "DAYS = 256\n",
    "for day in range(DAYS):\n",
    "    for key in fish_counts.copy().keys():\n",
    "        fish_counts[key-1] = fish_counts[key]\n",
    "    fish_counts[6] += fish_counts[-1]\n",
    "    fish_counts[8] = fish_counts.pop(-1)"
   ]
  },
  {
   "cell_type": "code",
   "execution_count": 20,
   "id": "08ee7bf7-58cb-4a21-8d83-be5efa66e55c",
   "metadata": {},
   "outputs": [
    {
     "name": "stdout",
     "output_type": "stream",
     "text": [
      "part 2: 1674303997472\n"
     ]
    }
   ],
   "source": [
    "print(\"part 2:\", sum(fish_counts.values()))"
   ]
  }
 ],
 "metadata": {
  "kernelspec": {
   "display_name": "Python 3 (ipykernel)",
   "language": "python",
   "name": "python3"
  },
  "language_info": {
   "codemirror_mode": {
    "name": "ipython",
    "version": 3
   },
   "file_extension": ".py",
   "mimetype": "text/x-python",
   "name": "python",
   "nbconvert_exporter": "python",
   "pygments_lexer": "ipython3",
   "version": "3.9.9"
  }
 },
 "nbformat": 4,
 "nbformat_minor": 5
}
