{
 "cells": [
  {
   "cell_type": "code",
   "execution_count": 1,
   "id": "a9d7ec7d-7e5d-49c0-88d5-3f3088068ad9",
   "metadata": {},
   "outputs": [],
   "source": [
    "def preprocess(filename: str):\n",
    "    with open(filename, \"r\") as file:\n",
    "        numbers = [int(x) for x in file.readline().strip().split(\",\")]\n",
    "        board_rows = []\n",
    "        rows = []\n",
    "        lines = file.readlines()[1:]\n",
    "        for line in lines:\n",
    "            line = line.strip()\n",
    "            if len(line.strip()) != 0:\n",
    "                rows.append([int(x) for x in line.split()])\n",
    "            if len(rows) == BINGO_BOARD_DIM:\n",
    "                board_rows.append(rows)\n",
    "                rows = []\n",
    "        board_cols = []\n",
    "        for board in board_rows:\n",
    "            board_cols.append(list(map(list, zip(*board))))\n",
    "        board_nums = []\n",
    "        for board in board_rows:\n",
    "            board_nums.append([num for row in board for num in row])            \n",
    "            \n",
    "    return numbers, board_rows, board_cols, board_nums\n"
   ]
  },
  {
   "cell_type": "code",
   "execution_count": 2,
   "id": "b9137050-9bf4-403e-828a-5d6373a6ead9",
   "metadata": {},
   "outputs": [],
   "source": [
    "BINGO_BOARD_DIM = 5\n",
    "numbers, board_rows, board_cols, board_nums = preprocess(\"4_input.txt\")"
   ]
  },
  {
   "cell_type": "code",
   "execution_count": 3,
   "id": "a428578a-f24b-4e52-8461-7b83a36d12ed",
   "metadata": {},
   "outputs": [],
   "source": [
    "def evaluateLists(rows: list[list], nums: list[int]):\n",
    "    for row in rows:\n",
    "        if all(x in nums for x in row):\n",
    "            return True\n"
   ]
  },
  {
   "cell_type": "code",
   "execution_count": 4,
   "id": "d65b9ef7-b7f8-4597-960e-818f9612fff5",
   "metadata": {
    "tags": []
   },
   "outputs": [],
   "source": [
    "called = []\n",
    "index = 0\n",
    "winners = []\n",
    "last_called = []\n",
    "remaining = []\n",
    "for num in numbers:\n",
    "    called.append(num)\n",
    "    for index in range(len(board_nums)):\n",
    "        if evaluateLists(board_rows[index], called) == True:\n",
    "            if index not in winners:\n",
    "                winners.append(index)\n",
    "                last_called.append(num)\n",
    "                remaining.append(sum([item for item in board_nums[index] if item not in called]))\n",
    "            \n",
    "        if evaluateLists(board_cols[index], called) == True:\n",
    "            if index not in winners:\n",
    "                winners.append(index)\n",
    "                last_called.append(num)\n",
    "                remaining.append(sum([item for item in board_nums[index] if item not in called]))\n",
    "            \n",
    "\n"
   ]
  },
  {
   "cell_type": "code",
   "execution_count": 5,
   "id": "28325047-c714-4966-866a-56203075cecf",
   "metadata": {},
   "outputs": [
    {
     "data": {
      "text/plain": [
       "63"
      ]
     },
     "execution_count": 5,
     "metadata": {},
     "output_type": "execute_result"
    }
   ],
   "source": [
    "winners[0]"
   ]
  },
  {
   "cell_type": "code",
   "execution_count": 6,
   "id": "2e3c9ddc-0e97-4767-8e67-2443aee58d98",
   "metadata": {},
   "outputs": [
    {
     "data": {
      "text/plain": [
       "73"
      ]
     },
     "execution_count": 6,
     "metadata": {},
     "output_type": "execute_result"
    }
   ],
   "source": [
    "last_called[0]"
   ]
  },
  {
   "cell_type": "code",
   "execution_count": 7,
   "id": "ba2471d6-30ed-4601-8efb-e011055593dc",
   "metadata": {},
   "outputs": [
    {
     "data": {
      "text/plain": [
       "806"
      ]
     },
     "execution_count": 7,
     "metadata": {},
     "output_type": "execute_result"
    }
   ],
   "source": [
    "remaining[0]"
   ]
  },
  {
   "cell_type": "code",
   "execution_count": 8,
   "id": "6d92bb9a-f7cf-4f63-b13a-64835c7ff737",
   "metadata": {},
   "outputs": [
    {
     "data": {
      "text/plain": [
       "24"
      ]
     },
     "execution_count": 8,
     "metadata": {},
     "output_type": "execute_result"
    }
   ],
   "source": [
    "winners[-1]"
   ]
  },
  {
   "cell_type": "code",
   "execution_count": 9,
   "id": "113fbe30-1ae2-4220-94ef-67d4c5d4051c",
   "metadata": {},
   "outputs": [
    {
     "data": {
      "text/plain": [
       "46"
      ]
     },
     "execution_count": 9,
     "metadata": {},
     "output_type": "execute_result"
    }
   ],
   "source": [
    "last_called[-1]"
   ]
  },
  {
   "cell_type": "code",
   "execution_count": 10,
   "id": "8447f838-9323-4cc1-a56f-8650742f049a",
   "metadata": {},
   "outputs": [
    {
     "data": {
      "text/plain": [
       "136"
      ]
     },
     "execution_count": 10,
     "metadata": {},
     "output_type": "execute_result"
    }
   ],
   "source": [
    "remaining[-1]"
   ]
  },
  {
   "cell_type": "code",
   "execution_count": null,
   "id": "48770e3e-13b8-40fa-b8c0-d1451325b2a7",
   "metadata": {},
   "outputs": [],
   "source": []
  }
 ],
 "metadata": {
  "kernelspec": {
   "display_name": "Python 3 (ipykernel)",
   "language": "python",
   "name": "python3"
  },
  "language_info": {
   "codemirror_mode": {
    "name": "ipython",
    "version": 3
   },
   "file_extension": ".py",
   "mimetype": "text/x-python",
   "name": "python",
   "nbconvert_exporter": "python",
   "pygments_lexer": "ipython3",
   "version": "3.9.9"
  }
 },
 "nbformat": 4,
 "nbformat_minor": 5
}
