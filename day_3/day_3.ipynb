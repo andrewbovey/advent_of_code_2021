{
 "cells": [
  {
   "cell_type": "code",
   "execution_count": 12,
   "id": "2dd63731-55e8-4441-a437-4c7d555636a1",
   "metadata": {
    "tags": []
   },
   "outputs": [],
   "source": [
    "inputs = []\n",
    "with open(\"input\", \"r\") as file:\n",
    "    for line in file:\n",
    "        inputs.append(list(line.strip()))"
   ]
  },
  {
   "cell_type": "code",
   "execution_count": 2,
   "id": "24523738-5cdd-4c12-87db-ec2fb5f621f7",
   "metadata": {},
   "outputs": [],
   "source": [
    "def binary_to_decimal(binary: str):\n",
    "    dec = int(binary, 2)\n",
    "    return dec"
   ]
  },
  {
   "cell_type": "code",
   "execution_count": 31,
   "id": "8dfd3e4e-5864-4df4-a886-99d373942887",
   "metadata": {},
   "outputs": [
    {
     "data": {
      "text/plain": [
       "189"
      ]
     },
     "execution_count": 31,
     "metadata": {},
     "output_type": "execute_result"
    }
   ],
   "source": [
    "int(gamma,2)"
   ]
  },
  {
   "cell_type": "code",
   "execution_count": 42,
   "id": "4c76b8d9-2652-4008-b9c8-d4f6d469f3e0",
   "metadata": {},
   "outputs": [
    {
     "data": {
      "text/plain": [
       "3906"
      ]
     },
     "execution_count": 42,
     "metadata": {},
     "output_type": "execute_result"
    }
   ],
   "source": [
    "int(epsilon,2)"
   ]
  },
  {
   "cell_type": "code",
   "execution_count": 43,
   "id": "0cb9c4e4-cd49-4d45-9d1e-e32971781b72",
   "metadata": {},
   "outputs": [
    {
     "data": {
      "text/plain": [
       "738234"
      ]
     },
     "execution_count": 43,
     "metadata": {},
     "output_type": "execute_result"
    }
   ],
   "source": [
    "int(gamma,2)*int(epsilon,2)"
   ]
  },
  {
   "cell_type": "code",
   "execution_count": 3,
   "id": "fe5e50eb-54ae-477f-84e6-c038e7973627",
   "metadata": {},
   "outputs": [],
   "source": [
    "def more_less_bits(binary_lists: list[list[str]], index: int, determine: str):\n",
    "    \"\"\"\n",
    "    Provide a list consisting of lists of strings, and the index of which position in the int\n",
    "    to find the most common bit in that position among all lists. \n",
    "    Return what the most common bit is.\n",
    "    \n",
    "    Assumptions: Each provided list is of the same lenght, and each str in those lists is either\n",
    "    '0' or '1'.\n",
    "    \"\"\"\n",
    "    transpose = list(map(list, zip(*binary_lists)))\n",
    "    \n",
    "    if determine == 'more':\n",
    "        bit = max(set(transpose[index]), key = transpose[index].count)\n",
    "    else:\n",
    "        bit = str(int(not int(max(set(transpose[index]), key = transpose[index].count))))\n",
    "    if transpose[index].count('1') == transpose[index].count('0'):\n",
    "        if determine == 'more':\n",
    "            bit = '1'\n",
    "        else:\n",
    "            bit = '0'\n",
    "    return bit"
   ]
  },
  {
   "cell_type": "code",
   "execution_count": 4,
   "id": "e19f8af9-b576-424b-9dc2-9e37fda080a6",
   "metadata": {},
   "outputs": [
    {
     "data": {
      "text/plain": [
       "'1'"
      ]
     },
     "execution_count": 4,
     "metadata": {},
     "output_type": "execute_result"
    }
   ],
   "source": [
    "more_less_bits(inputs, 0, 'less')"
   ]
  },
  {
   "cell_type": "code",
   "execution_count": 14,
   "id": "43e18bdb-bee2-404b-9b4e-cc0ccb110330",
   "metadata": {},
   "outputs": [],
   "source": [
    "def part_one(binary_lists: list[list[str]], determine: str):\n",
    "    answer=''\n",
    "    for bit in range(len(binary_lists[0])):\n",
    "        answer+=more_less_bits(binary_lists, bit, determine)\n",
    "    return answer"
   ]
  },
  {
   "cell_type": "code",
   "execution_count": 15,
   "id": "cda9e3b2-8000-4b58-b5f2-e7f9b9ccb3aa",
   "metadata": {},
   "outputs": [
    {
     "data": {
      "text/plain": [
       "'000010111101'"
      ]
     },
     "execution_count": 15,
     "metadata": {},
     "output_type": "execute_result"
    }
   ],
   "source": [
    "part_one(inputs, 'more')"
   ]
  },
  {
   "cell_type": "code",
   "execution_count": 16,
   "id": "6665e31b-546a-48a5-bfab-5a7b7b4bc663",
   "metadata": {},
   "outputs": [
    {
     "data": {
      "text/plain": [
       "'111101000010'"
      ]
     },
     "execution_count": 16,
     "metadata": {},
     "output_type": "execute_result"
    }
   ],
   "source": [
    "part_one(inputs, 'less')"
   ]
  },
  {
   "cell_type": "code",
   "execution_count": 17,
   "id": "1b4eb7ea-60f1-454f-901b-9832c52d68a2",
   "metadata": {},
   "outputs": [
    {
     "data": {
      "text/plain": [
       "189"
      ]
     },
     "execution_count": 17,
     "metadata": {},
     "output_type": "execute_result"
    }
   ],
   "source": [
    "binary_to_decimal(part_one(inputs, 'more'))"
   ]
  },
  {
   "cell_type": "code",
   "execution_count": 18,
   "id": "d3844c92-1299-4748-9dd4-ba0dbcf77a11",
   "metadata": {},
   "outputs": [
    {
     "data": {
      "text/plain": [
       "3906"
      ]
     },
     "execution_count": 18,
     "metadata": {},
     "output_type": "execute_result"
    }
   ],
   "source": [
    "binary_to_decimal(part_one(inputs, 'less'))"
   ]
  },
  {
   "cell_type": "code",
   "execution_count": 19,
   "id": "9653f3d7-70a1-4dde-8473-fee3aa08e402",
   "metadata": {},
   "outputs": [
    {
     "data": {
      "text/plain": [
       "738234"
      ]
     },
     "execution_count": 19,
     "metadata": {},
     "output_type": "execute_result"
    }
   ],
   "source": [
    "189*3906"
   ]
  },
  {
   "cell_type": "code",
   "execution_count": 5,
   "id": "24215b87-d893-43e4-afc1-02d14951bd9a",
   "metadata": {},
   "outputs": [],
   "source": [
    "def subset_lists(binary_lists: list[list[str]], index: int, subset_on: str):\n",
    "    \"\"\"\n",
    "    \n",
    "    \"\"\"\n",
    "    subset_lists = []\n",
    "    for binary_list in binary_lists:\n",
    "        if binary_list[index] == subset_on:\n",
    "            subset_lists.append(binary_list)\n",
    "    return subset_lists"
   ]
  },
  {
   "cell_type": "code",
   "execution_count": 6,
   "id": "ec9a06d6-a12b-4699-adfb-28ce9d4d6ca9",
   "metadata": {},
   "outputs": [],
   "source": [
    "def part_two(binary_lists: list[list[str]], determine: str):\n",
    "    subset_inputs = inputs.copy()\n",
    "    for i in range(len(subset_inputs[0])):\n",
    "        subset = more_less_bits(subset_inputs, i, determine)\n",
    "        subset_inputs = subset_lists(subset_inputs, i, subset)\n",
    "        if len(subset_inputs) == 1:\n",
    "            print(\"One list left, stopping early.\")\n",
    "            break\n",
    "    return subset_inputs[0]"
   ]
  },
  {
   "cell_type": "code",
   "execution_count": 7,
   "id": "083f7321-f977-42e4-8a27-c508e48a80f2",
   "metadata": {},
   "outputs": [
    {
     "name": "stdout",
     "output_type": "stream",
     "text": [
      "One list left, stopping early.\n"
     ]
    },
    {
     "data": {
      "text/plain": [
       "['0', '1', '0', '0', '0', '0', '1', '0', '1', '1', '1', '1']"
      ]
     },
     "execution_count": 7,
     "metadata": {},
     "output_type": "execute_result"
    }
   ],
   "source": [
    "part_two(inputs, 'more')"
   ]
  },
  {
   "cell_type": "code",
   "execution_count": 8,
   "id": "98c13da0-ede3-4aec-8853-6a3954162be6",
   "metadata": {},
   "outputs": [
    {
     "name": "stdout",
     "output_type": "stream",
     "text": [
      "One list left, stopping early.\n"
     ]
    },
    {
     "data": {
      "text/plain": [
       "3706"
      ]
     },
     "execution_count": 8,
     "metadata": {},
     "output_type": "execute_result"
    }
   ],
   "source": [
    "int(''.join(part_two(inputs, 'less')),2)"
   ]
  },
  {
   "cell_type": "code",
   "execution_count": 9,
   "id": "6c44e51e-641a-49bf-a847-8982b01af260",
   "metadata": {},
   "outputs": [
    {
     "name": "stdout",
     "output_type": "stream",
     "text": [
      "One list left, stopping early.\n"
     ]
    },
    {
     "data": {
      "text/plain": [
       "1071"
      ]
     },
     "execution_count": 9,
     "metadata": {},
     "output_type": "execute_result"
    }
   ],
   "source": [
    "int(''.join(part_two(inputs, 'more')),2)"
   ]
  },
  {
   "cell_type": "code",
   "execution_count": null,
   "id": "839c777c-608a-4d93-b077-ee44d8065f54",
   "metadata": {},
   "outputs": [
    {
     "data": {
      "text/plain": [
       "3969126"
      ]
     },
     "execution_count": 10,
     "metadata": {},
     "output_type": "execute_result"
    }
   ],
   "source": [
    "1071*3706"
   ]
  },
  {
   "cell_type": "code",
   "execution_count": 146,
   "id": "eabd6df8-de22-46e9-89ed-3bad678eb4da",
   "metadata": {},
   "outputs": [
    {
     "name": "stdout",
     "output_type": "stream",
     "text": [
      "One list left, stopping early.\n"
     ]
    }
   ],
   "source": [
    "for i in range(len(inputs[0])):\n",
    "    subset = more_less_bits(inputs, i, 'less')\n",
    "    inputs = subset_lists(inputs, i, subset)\n",
    "    if len(inputs) == 1:\n",
    "        print(\"One list left, stopping early.\")\n",
    "        break\n",
    "    "
   ]
  },
  {
   "cell_type": "code",
   "execution_count": 140,
   "id": "7cfd9dfb-f56d-46d2-a195-39ae56ede565",
   "metadata": {},
   "outputs": [
    {
     "data": {
      "text/plain": [
       "[['0', '1', '0', '0', '0', '0', '1', '0', '1', '1', '0', '0']]"
      ]
     },
     "execution_count": 140,
     "metadata": {},
     "output_type": "execute_result"
    }
   ],
   "source": [
    "inputs"
   ]
  },
  {
   "cell_type": "code",
   "execution_count": 149,
   "id": "bbaa509f-7e17-4acd-a214-60991d906370",
   "metadata": {},
   "outputs": [
    {
     "data": {
      "text/plain": [
       "'111111010001'"
      ]
     },
     "execution_count": 149,
     "metadata": {},
     "output_type": "execute_result"
    }
   ],
   "source": [
    "''.join(inputs[0])"
   ]
  },
  {
   "cell_type": "code",
   "execution_count": null,
   "id": "12914c06-193d-438a-a54d-2afeadbe0e6a",
   "metadata": {},
   "outputs": [],
   "source": []
  }
 ],
 "metadata": {
  "kernelspec": {
   "display_name": "Python 3 (ipykernel)",
   "language": "python",
   "name": "python3"
  },
  "language_info": {
   "codemirror_mode": {
    "name": "ipython",
    "version": 3
   },
   "file_extension": ".py",
   "mimetype": "text/x-python",
   "name": "python",
   "nbconvert_exporter": "python",
   "pygments_lexer": "ipython3",
   "version": "3.9.9"
  }
 },
 "nbformat": 4,
 "nbformat_minor": 5
}
