{
 "cells": [
  {
   "cell_type": "code",
   "execution_count": 1,
   "id": "8164d583-3cbd-45af-a362-e2dd57d4431d",
   "metadata": {},
   "outputs": [],
   "source": [
    "measurements = []\n",
    "with open(\"1_input.txt\") as file:\n",
    "    for line in file:\n",
    "        if not line.strip() == '':\n",
    "            measurements.append(line.strip())\n"
   ]
  },
  {
   "cell_type": "code",
   "execution_count": 2,
   "id": "a3c77cdc-1b49-49e5-9dcb-e75f664575f1",
   "metadata": {},
   "outputs": [],
   "source": [
    "measurements = [int(i) for i in measurements]"
   ]
  },
  {
   "cell_type": "code",
   "execution_count": 3,
   "id": "40e038c1-b1ff-48a9-bf78-10e55139efdb",
   "metadata": {},
   "outputs": [
    {
     "data": {
      "text/plain": [
       "1665"
      ]
     },
     "execution_count": 3,
     "metadata": {},
     "output_type": "execute_result"
    }
   ],
   "source": [
    "sum(m2 > m1 for m1, m2 in zip(measurements, measurements[1:]))"
   ]
  },
  {
   "cell_type": "code",
   "execution_count": 4,
   "id": "315387dc-0cea-4311-a862-2aff611fe03f",
   "metadata": {},
   "outputs": [
    {
     "data": {
      "text/plain": [
       "1702"
      ]
     },
     "execution_count": 4,
     "metadata": {},
     "output_type": "execute_result"
    }
   ],
   "source": [
    "sum(m2 > m1 for m1, m2 in zip(measurements, measurements[3:]))"
   ]
  },
  {
   "cell_type": "code",
   "execution_count": 5,
   "id": "b8228639-4ae5-45cb-a8f6-225656e2730a",
   "metadata": {},
   "outputs": [],
   "source": [
    "def measurement_increase(measurements: list, window_size: int = 1,) -> int:\n",
    "    \"\"\"\n",
    "    Provide a list of measurements in order and a sliding window size.\n",
    "    Return a int quantifying the number of times the sliding window sum is greater than the prior window.\n",
    "    \"\"\"\n",
    "    \n",
    "    count = sum(m2 > m1 for m1, m2 in zip(measurements, measurements[window_size:]))\n",
    "    \n",
    "    return count"
   ]
  },
  {
   "cell_type": "code",
   "execution_count": 6,
   "id": "d7d3ca49-06e6-44b4-91c8-0e1e5baf8dd9",
   "metadata": {},
   "outputs": [
    {
     "data": {
      "text/plain": [
       "1665"
      ]
     },
     "execution_count": 6,
     "metadata": {},
     "output_type": "execute_result"
    }
   ],
   "source": [
    "measurement_increase(measurements = measurements, window_size=1)"
   ]
  },
  {
   "cell_type": "code",
   "execution_count": 7,
   "id": "93dbde11-01e1-43e2-8e99-fb8e56ee666b",
   "metadata": {},
   "outputs": [
    {
     "data": {
      "text/plain": [
       "1702"
      ]
     },
     "execution_count": 7,
     "metadata": {},
     "output_type": "execute_result"
    }
   ],
   "source": [
    "measurement_increase(measurements = measurements, window_size=3)"
   ]
  },
  {
   "cell_type": "code",
   "execution_count": null,
   "id": "48494391-41a0-4ddf-865c-a560b49d9e31",
   "metadata": {},
   "outputs": [],
   "source": []
  }
 ],
 "metadata": {
  "kernelspec": {
   "display_name": "Python 3 (ipykernel)",
   "language": "python",
   "name": "python3"
  },
  "language_info": {
   "codemirror_mode": {
    "name": "ipython",
    "version": 3
   },
   "file_extension": ".py",
   "mimetype": "text/x-python",
   "name": "python",
   "nbconvert_exporter": "python",
   "pygments_lexer": "ipython3",
   "version": "3.9.9"
  }
 },
 "nbformat": 4,
 "nbformat_minor": 5
}
