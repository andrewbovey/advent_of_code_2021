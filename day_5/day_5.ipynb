{
 "cells": [
  {
   "cell_type": "code",
   "execution_count": 1,
   "id": "38a76ad2-ec3f-4b61-828c-c7f92dba2e50",
   "metadata": {},
   "outputs": [],
   "source": [
    "import numpy as np\n"
   ]
  },
  {
   "cell_type": "code",
   "execution_count": 2,
   "id": "f323bf9d-c693-4e50-874e-507fa9cd89e1",
   "metadata": {},
   "outputs": [],
   "source": [
    "with open(\"5_input.txt\", \"r\") as file:\n",
    "    vents = [[tuple(int(s) for s in coords.split(\",\")) for coords in line.strip().split(\" -> \")] for line in file]"
   ]
  },
  {
   "cell_type": "code",
   "execution_count": 3,
   "id": "ebaa4e7a-cc08-4217-b707-a109614d75e2",
   "metadata": {},
   "outputs": [],
   "source": [
    "XDIM = max(max(x1, x2) for (x1, x2), (y1, y2) in vents) + 1\n",
    "YDIM = max(max(y1, y2) for (x1, x2), (y1, y2) in vents) + 1\n",
    "\n"
   ]
  },
  {
   "cell_type": "code",
   "execution_count": 4,
   "id": "593a59cf-7c0b-445e-88a0-c2d07ab8d19d",
   "metadata": {},
   "outputs": [],
   "source": [
    "ocean_floor = np.zeros((XDIM, YDIM), dtype=int)"
   ]
  },
  {
   "cell_type": "code",
   "execution_count": 5,
   "id": "b29322cc-976c-46a7-8aad-b73b91e4b090",
   "metadata": {},
   "outputs": [],
   "source": [
    "for (x1, y1), (x2, y2) in vents:\n",
    "    if x1 == x2:\n",
    "        ocean_floor[x1, min(y1, y2):max(y1, y2)+1] += 1\n",
    "    elif y1 == y2:\n",
    "        ocean_floor[min(x1, x2):max(x1, x2)+1, y1] += 1"
   ]
  },
  {
   "cell_type": "code",
   "execution_count": 6,
   "id": "51cc63bb-9e7c-4f8e-99d5-33c9264c0fdc",
   "metadata": {},
   "outputs": [
    {
     "data": {
      "text/plain": [
       "7674"
      ]
     },
     "execution_count": 6,
     "metadata": {},
     "output_type": "execute_result"
    }
   ],
   "source": [
    "(ocean_floor > 1).sum()"
   ]
  },
  {
   "cell_type": "code",
   "execution_count": 7,
   "id": "c58affb5-c8fb-4d81-a1af-2c64d73c53a8",
   "metadata": {},
   "outputs": [],
   "source": [
    "ocean_floor = np.zeros((XDIM, YDIM), dtype=int)"
   ]
  },
  {
   "cell_type": "code",
   "execution_count": 8,
   "id": "4482ed46-a90b-42cd-a456-ab6ea771b6a6",
   "metadata": {},
   "outputs": [],
   "source": [
    "for vent in vents:\n",
    "  length = np.max([np.abs(vent[1][0]-vent[0][0]), np.abs(vent[1][1]-vent[0][1])])\n",
    "  x = (vent[1][0]-vent[0][0]) // length\n",
    "  y = (vent[1][1]-vent[0][1]) // length\n",
    "  for i in range(length+1):\n",
    "    ocean_floor[vent[0][0]+x*i, vent[0][1]+y*i] += 1"
   ]
  },
  {
   "cell_type": "code",
   "execution_count": 9,
   "id": "c4ac7182-8f96-45ad-b626-c74b084488df",
   "metadata": {},
   "outputs": [
    {
     "data": {
      "text/plain": [
       "20898"
      ]
     },
     "execution_count": 9,
     "metadata": {},
     "output_type": "execute_result"
    }
   ],
   "source": [
    "(ocean_floor>=2).sum()"
   ]
  },
  {
   "cell_type": "code",
   "execution_count": null,
   "id": "c37341d3-4704-4dd1-a1ec-e35b7e5f49fc",
   "metadata": {},
   "outputs": [],
   "source": []
  }
 ],
 "metadata": {
  "kernelspec": {
   "display_name": "Python 3 (ipykernel)",
   "language": "python",
   "name": "python3"
  },
  "language_info": {
   "codemirror_mode": {
    "name": "ipython",
    "version": 3
   },
   "file_extension": ".py",
   "mimetype": "text/x-python",
   "name": "python",
   "nbconvert_exporter": "python",
   "pygments_lexer": "ipython3",
   "version": "3.9.9"
  }
 },
 "nbformat": 4,
 "nbformat_minor": 5
}
